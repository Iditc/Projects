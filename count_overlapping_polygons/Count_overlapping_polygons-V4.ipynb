{
 "cells": [
  {
   "cell_type": "code",
   "execution_count": 1,
   "metadata": {},
   "outputs": [],
   "source": [
    "import pandas as pd\n",
    "import geopandas as gpd\n",
    "from shapely import wkt\n",
    "from matplotlib.patches import Ellipse\n",
    "from shapely.geometry import Polygon, box\n",
    "from matplotlib import pyplot as plt\n",
    "import seaborn as sns; sns.set_theme()\n",
    "import seaborn as sns; sns.set(style=\"darkgrid\")\n",
    "%matplotlib inline"
   ]
  },
  {
   "cell_type": "code",
   "execution_count": 2,
   "metadata": {},
   "outputs": [],
   "source": [
    "# convert list to str with '/' between the letters\n",
    "def list_str(my_list):    \n",
    "    my_str = my_list[0]\n",
    "    for i in my_list[1:]:\n",
    "        my_str = my_str+ '/' + i\n",
    "    return (my_str)"
   ]
  },
  {
   "cell_type": "code",
   "execution_count": 3,
   "metadata": {},
   "outputs": [],
   "source": [
    "# # Calculate the number of layers using the name of the polygon\n",
    "def elements_in_list(the_list):\n",
    "    w = the_list.split(\"/\")\n",
    "    my_list = list(set(w))\n",
    "    list_len = len(my_list)\n",
    "    my_list.sort()\n",
    "    return (list_len, my_list)"
   ]
  },
  {
   "cell_type": "code",
   "execution_count": 4,
   "metadata": {},
   "outputs": [],
   "source": [
    "def annotate_polygon(gdf, geom_col, col):\n",
    "    '''\n",
    "    visualization of overlapping poligons\n",
    "    Contains annotation describing the names of the overlapping polygons or the number of overlapping polygons\n",
    "    Parameters\n",
    "    ----------\n",
    "    gdf : geodatafreame\n",
    "        The geodatafreame Should include the following fields:\n",
    "        geometry - the polygon\n",
    "        name - The name of the polygon\n",
    "        #polygons - The number of polygons that make up the polygon \n",
    "    geom_col : str\n",
    "        the name of the polygon columen \n",
    "    col : str\n",
    "        the name of the columen for annotate\n",
    "        Ex: 'name' or '#polygons'\n",
    "    '''\n",
    "    gdf['centroid'] = gdf[geom_col].centroid\n",
    "    gdf['N_centroid'] = gdf['centroid'].apply(coords)\n",
    "    gdf.plot(alpha=0.5, figsize=(18,20), edgecolor='black')\n",
    "    for idx, row in gdf.iterrows():\n",
    "        plt.annotate(text=row[col], xy=row['N_centroid'], horizontalalignment='center');"
   ]
  },
  {
   "cell_type": "code",
   "execution_count": 5,
   "metadata": {},
   "outputs": [],
   "source": [
    "# calculating the name = the polygons that are overlapping\n",
    "def num_polygon(name_1, name_2):\n",
    "    if name_1 == name_2:\n",
    "        name = name_1\n",
    "    else: \n",
    "        name = name_1 + '/' + name_2 \n",
    "    name_str = list_str(elements_in_list(name)[1])\n",
    "    return (name_str)"
   ]
  },
  {
   "cell_type": "code",
   "execution_count": 6,
   "metadata": {},
   "outputs": [],
   "source": [
    "def new_features (df):\n",
    "    df['name'] = df.apply(lambda x: num_polygon(x['name_1'], x['name_2']), axis=1) #Calculating the name\n",
    "    df['#polygons'] = df.apply(lambda x: elements_in_list(x['name'])[0], axis=1) # Calculate the number of layers\n",
    "    df['id'] = df.index\n",
    "    return(df)"
   ]
  },
  {
   "cell_type": "code",
   "execution_count": 7,
   "metadata": {},
   "outputs": [],
   "source": [
    "# To allow placement of the caption in the middle of the polygon\n",
    "def coords(point):\n",
    "    N_point = point.coords[:]\n",
    "    N_point = N_point[0]\n",
    "    return(N_point)"
   ]
  },
  {
   "cell_type": "code",
   "execution_count": 8,
   "metadata": {},
   "outputs": [],
   "source": [
    "def one_iteration(df):\n",
    "    global iteration_num\n",
    "    iteration_num += 1\n",
    "    #print ('num of iterations:', iteration_num)\n",
    "    df = gpd.overlay(df, df, how='intersection') # Perform spatial overlay between two GeoDataFrames\n",
    "    df = new_features(df) # new fetures for display \n",
    "    df.drop(['id', 'name_1', 'name_2', '#polygons_1', '#polygons_2'], axis=1, inplace=True)\n",
    "    df.drop_duplicates(subset=['name'], inplace=True)\n",
    "    return(df)"
   ]
  },
  {
   "cell_type": "code",
   "execution_count": 9,
   "metadata": {},
   "outputs": [],
   "source": [
    "# For example: reducing 4 layers polygons from 3 layers polygons.\n",
    "# Dividing the dataframe into three. The two layers that need to be reduced and all the rest.\n",
    "# Then connecting everyone together\n",
    "def geo_differenc(df, iteration_num):\n",
    "    A = df.loc[df['#polygons'] == iteration_num]\n",
    "    B = df.loc[df['#polygons'] == iteration_num +1]\n",
    "    C = df.loc[~df['#polygons'].isin([iteration_num , iteration_num + 1])]\n",
    "    AB = gpd.overlay(A, B, how='difference')\n",
    "    df = pd.concat([AB, B, C])\n",
    "    return(df)"
   ]
  },
  {
   "cell_type": "code",
   "execution_count": 177,
   "metadata": {},
   "outputs": [],
   "source": [
    "# For example: reducing 4 layers polygons from 3 layers polygons.\n",
    "# calculating the layers needed to reduce\n",
    "def geo_differenc_itera(df):\n",
    "    polygons_nam_max = df['#polygons'].max()\n",
    "    #print ('max polygons:', polygons_nam_max)\n",
    "    for i in range (iteration_num,polygons_nam_max):\n",
    "        #print ('i:', i)\n",
    "        df = geo_differenc(df, i)\n",
    "    return(df)"
   ]
  },
  {
   "cell_type": "code",
   "execution_count": 178,
   "metadata": {},
   "outputs": [],
   "source": [
    "data = {'name':  ['A', 'B', 'C'],\n",
    "        'id': [1, 2, 3],\n",
    "         'geometry': ['MULTIPOLYGON (((36.00000 11.00000, 36.00000 12.00000, 37.00000 12.00000, 37.00000 11.00000, 36.00000 11.00000)))', 'MULTIPOLYGON (((36.50000 11.50000, 37.50000 11.50000, 37.50000 11.00000, 36.50000 11.00000, 36.50000 11.50000)))', 'MULTIPOLYGON (((36.61799 10.80580, 36.61570 11.19321, 36.86327 11.29637, 37.34925 10.91813, 37.00540 10.71182, 36.61799 10.80580)))']\n",
    "        }\n",
    "\n",
    "df = pd.DataFrame (data, columns = ['name','id','geometry'])\n",
    "df['geometry'] = df['geometry'].apply(wkt.loads)\n",
    "gdf = gpd.GeoDataFrame(df, geometry='geometry')"
   ]
  },
  {
   "cell_type": "code",
   "execution_count": 179,
   "metadata": {},
   "outputs": [],
   "source": [
    "# make some rectangles (for demonstration purposes and intersect with each other)\n",
    "rect1 = box(32,10,37,13)\n",
    "rect5 = box(32,10,37,13)\n",
    "rect6 = box(32,10,37,13)\n",
    "rect7 = box(32,10,37,13)\n",
    "rect2 = box(32.5,11.5,35,15)\n",
    "rect3 = box(33.5,12.5,36,17)\n",
    "rect4 = box(33.5,10.5,37.2,12.3)"
   ]
  },
  {
   "cell_type": "code",
   "execution_count": 180,
   "metadata": {},
   "outputs": [],
   "source": [
    "data2 = {'name':  ['D', 'E', 'F', 'G', 'H', 'I', 'J'],\n",
    "        'id': [4, 5, 6, 7, 8, 9, 10],\n",
    "         'geometry': [rect1, rect2, rect3, rect4, rect5, rect6, rect7]\n",
    "        }\n",
    "df2 = pd.DataFrame (data2, columns = ['name','id','geometry'])\n",
    "gdf2 = gpd.GeoDataFrame(df2, geometry='geometry')"
   ]
  },
  {
   "cell_type": "code",
   "execution_count": 181,
   "metadata": {},
   "outputs": [],
   "source": [
    "gdf = gdf2.append(gdf)"
   ]
  },
  {
   "cell_type": "code",
   "execution_count": 182,
   "metadata": {},
   "outputs": [
    {
     "data": {
      "text/html": [
       "<div>\n",
       "<style scoped>\n",
       "    .dataframe tbody tr th:only-of-type {\n",
       "        vertical-align: middle;\n",
       "    }\n",
       "\n",
       "    .dataframe tbody tr th {\n",
       "        vertical-align: top;\n",
       "    }\n",
       "\n",
       "    .dataframe thead th {\n",
       "        text-align: right;\n",
       "    }\n",
       "</style>\n",
       "<table border=\"1\" class=\"dataframe\">\n",
       "  <thead>\n",
       "    <tr style=\"text-align: right;\">\n",
       "      <th></th>\n",
       "      <th>name</th>\n",
       "      <th>id</th>\n",
       "      <th>geometry</th>\n",
       "    </tr>\n",
       "  </thead>\n",
       "  <tbody>\n",
       "    <tr>\n",
       "      <th>0</th>\n",
       "      <td>D</td>\n",
       "      <td>4</td>\n",
       "      <td>POLYGON ((37.00000 10.00000, 37.00000 13.00000...</td>\n",
       "    </tr>\n",
       "    <tr>\n",
       "      <th>1</th>\n",
       "      <td>E</td>\n",
       "      <td>5</td>\n",
       "      <td>POLYGON ((35.00000 11.50000, 35.00000 15.00000...</td>\n",
       "    </tr>\n",
       "    <tr>\n",
       "      <th>2</th>\n",
       "      <td>F</td>\n",
       "      <td>6</td>\n",
       "      <td>POLYGON ((36.00000 12.50000, 36.00000 17.00000...</td>\n",
       "    </tr>\n",
       "    <tr>\n",
       "      <th>3</th>\n",
       "      <td>G</td>\n",
       "      <td>7</td>\n",
       "      <td>POLYGON ((37.20000 10.50000, 37.20000 12.30000...</td>\n",
       "    </tr>\n",
       "    <tr>\n",
       "      <th>4</th>\n",
       "      <td>H</td>\n",
       "      <td>8</td>\n",
       "      <td>POLYGON ((37.00000 10.00000, 37.00000 13.00000...</td>\n",
       "    </tr>\n",
       "    <tr>\n",
       "      <th>5</th>\n",
       "      <td>I</td>\n",
       "      <td>9</td>\n",
       "      <td>POLYGON ((37.00000 10.00000, 37.00000 13.00000...</td>\n",
       "    </tr>\n",
       "    <tr>\n",
       "      <th>6</th>\n",
       "      <td>J</td>\n",
       "      <td>10</td>\n",
       "      <td>POLYGON ((37.00000 10.00000, 37.00000 13.00000...</td>\n",
       "    </tr>\n",
       "    <tr>\n",
       "      <th>0</th>\n",
       "      <td>A</td>\n",
       "      <td>1</td>\n",
       "      <td>MULTIPOLYGON (((36.00000 11.00000, 36.00000 12...</td>\n",
       "    </tr>\n",
       "    <tr>\n",
       "      <th>1</th>\n",
       "      <td>B</td>\n",
       "      <td>2</td>\n",
       "      <td>MULTIPOLYGON (((36.50000 11.50000, 37.50000 11...</td>\n",
       "    </tr>\n",
       "    <tr>\n",
       "      <th>2</th>\n",
       "      <td>C</td>\n",
       "      <td>3</td>\n",
       "      <td>MULTIPOLYGON (((36.61799 10.80580, 36.61570 11...</td>\n",
       "    </tr>\n",
       "  </tbody>\n",
       "</table>\n",
       "</div>"
      ],
      "text/plain": [
       "  name  id                                           geometry\n",
       "0    D   4  POLYGON ((37.00000 10.00000, 37.00000 13.00000...\n",
       "1    E   5  POLYGON ((35.00000 11.50000, 35.00000 15.00000...\n",
       "2    F   6  POLYGON ((36.00000 12.50000, 36.00000 17.00000...\n",
       "3    G   7  POLYGON ((37.20000 10.50000, 37.20000 12.30000...\n",
       "4    H   8  POLYGON ((37.00000 10.00000, 37.00000 13.00000...\n",
       "5    I   9  POLYGON ((37.00000 10.00000, 37.00000 13.00000...\n",
       "6    J  10  POLYGON ((37.00000 10.00000, 37.00000 13.00000...\n",
       "0    A   1  MULTIPOLYGON (((36.00000 11.00000, 36.00000 12...\n",
       "1    B   2  MULTIPOLYGON (((36.50000 11.50000, 37.50000 11...\n",
       "2    C   3  MULTIPOLYGON (((36.61799 10.80580, 36.61570 11..."
      ]
     },
     "execution_count": 182,
     "metadata": {},
     "output_type": "execute_result"
    }
   ],
   "source": [
    "gdf"
   ]
  },
  {
   "cell_type": "code",
   "execution_count": 183,
   "metadata": {},
   "outputs": [
    {
     "data": {
      "image/png": "[encoded data removed]",
      "text/plain": [
       "<Figure size 1296x1440 with 1 Axes>"
      ]
     },
     "metadata": {
      "needs_background": "light"
     },
     "output_type": "display_data"
    }
   ],
   "source": [
    "annotate_polygon(gdf, 'geometry', 'name')\n",
    "gdf.drop(['id', 'N_centroid', 'centroid'], axis=1, inplace=True)"
   ]
  },
  {
   "cell_type": "markdown",
   "metadata": {},
   "source": [
    "# start new"
   ]
  },
  {
   "cell_type": "code",
   "execution_count": 184,
   "metadata": {},
   "outputs": [],
   "source": [
    "U_o = gdf"
   ]
  },
  {
   "cell_type": "code",
   "execution_count": 185,
   "metadata": {},
   "outputs": [],
   "source": [
    "U = gpd.overlay(gdf, gdf, how='intersection')"
   ]
  },
  {
   "cell_type": "code",
   "execution_count": 186,
   "metadata": {},
   "outputs": [],
   "source": [
    "U = new_features(U)\n",
    "U.drop(['id', 'name_1', 'name_2'], axis=1, inplace=True)\n",
    "U.drop_duplicates(subset=['name'], inplace=True)\n",
    "iteration_num = 1\n",
    "U = geo_differenc(U, 1)"
   ]
  },
  {
   "cell_type": "code",
   "execution_count": 187,
   "metadata": {},
   "outputs": [
    {
     "data": {
      "text/html": [
       "<div>\n",
       "<style scoped>\n",
       "    .dataframe tbody tr th:only-of-type {\n",
       "        vertical-align: middle;\n",
       "    }\n",
       "\n",
       "    .dataframe tbody tr th {\n",
       "        vertical-align: top;\n",
       "    }\n",
       "\n",
       "    .dataframe thead th {\n",
       "        text-align: right;\n",
       "    }\n",
       "</style>\n",
       "<table border=\"1\" class=\"dataframe\">\n",
       "  <thead>\n",
       "    <tr style=\"text-align: right;\">\n",
       "      <th></th>\n",
       "      <th>name</th>\n",
       "      <th>geometry</th>\n",
       "    </tr>\n",
       "  </thead>\n",
       "  <tbody>\n",
       "    <tr>\n",
       "      <th>0</th>\n",
       "      <td>D</td>\n",
       "      <td>POLYGON ((37.00000 10.00000, 37.00000 13.00000...</td>\n",
       "    </tr>\n",
       "    <tr>\n",
       "      <th>1</th>\n",
       "      <td>E</td>\n",
       "      <td>POLYGON ((35.00000 11.50000, 35.00000 15.00000...</td>\n",
       "    </tr>\n",
       "    <tr>\n",
       "      <th>2</th>\n",
       "      <td>F</td>\n",
       "      <td>POLYGON ((36.00000 12.50000, 36.00000 17.00000...</td>\n",
       "    </tr>\n",
       "    <tr>\n",
       "      <th>3</th>\n",
       "      <td>G</td>\n",
       "      <td>POLYGON ((37.20000 10.50000, 37.20000 12.30000...</td>\n",
       "    </tr>\n",
       "    <tr>\n",
       "      <th>4</th>\n",
       "      <td>H</td>\n",
       "      <td>POLYGON ((37.00000 10.00000, 37.00000 13.00000...</td>\n",
       "    </tr>\n",
       "    <tr>\n",
       "      <th>5</th>\n",
       "      <td>I</td>\n",
       "      <td>POLYGON ((37.00000 10.00000, 37.00000 13.00000...</td>\n",
       "    </tr>\n",
       "    <tr>\n",
       "      <th>6</th>\n",
       "      <td>J</td>\n",
       "      <td>POLYGON ((37.00000 10.00000, 37.00000 13.00000...</td>\n",
       "    </tr>\n",
       "    <tr>\n",
       "      <th>0</th>\n",
       "      <td>A</td>\n",
       "      <td>MULTIPOLYGON (((36.00000 11.00000, 36.00000 12...</td>\n",
       "    </tr>\n",
       "    <tr>\n",
       "      <th>1</th>\n",
       "      <td>B</td>\n",
       "      <td>MULTIPOLYGON (((36.50000 11.50000, 37.50000 11...</td>\n",
       "    </tr>\n",
       "    <tr>\n",
       "      <th>2</th>\n",
       "      <td>C</td>\n",
       "      <td>MULTIPOLYGON (((36.61799 10.80580, 36.61570 11...</td>\n",
       "    </tr>\n",
       "  </tbody>\n",
       "</table>\n",
       "</div>"
      ],
      "text/plain": [
       "  name                                           geometry\n",
       "0    D  POLYGON ((37.00000 10.00000, 37.00000 13.00000...\n",
       "1    E  POLYGON ((35.00000 11.50000, 35.00000 15.00000...\n",
       "2    F  POLYGON ((36.00000 12.50000, 36.00000 17.00000...\n",
       "3    G  POLYGON ((37.20000 10.50000, 37.20000 12.30000...\n",
       "4    H  POLYGON ((37.00000 10.00000, 37.00000 13.00000...\n",
       "5    I  POLYGON ((37.00000 10.00000, 37.00000 13.00000...\n",
       "6    J  POLYGON ((37.00000 10.00000, 37.00000 13.00000...\n",
       "0    A  MULTIPOLYGON (((36.00000 11.00000, 36.00000 12...\n",
       "1    B  MULTIPOLYGON (((36.50000 11.50000, 37.50000 11...\n",
       "2    C  MULTIPOLYGON (((36.61799 10.80580, 36.61570 11..."
      ]
     },
     "execution_count": 187,
     "metadata": {},
     "output_type": "execute_result"
    }
   ],
   "source": [
    "U_o"
   ]
  },
  {
   "cell_type": "code",
   "execution_count": 188,
   "metadata": {
    "scrolled": false
   },
   "outputs": [],
   "source": [
    "while (not(U['name'].equals(U_o['name']))):\n",
    "    U_o = U.copy()\n",
    "    U = one_iteration(U)\n",
    "    U = geo_differenc_itera(U)"
   ]
  },
  {
   "cell_type": "code",
   "execution_count": 189,
   "metadata": {},
   "outputs": [],
   "source": [
    "# gdf - geodatafreame, geom_col - \n",
    "def visualization(gdf, geom_col, col):\n",
    "    '''\n",
    "    visualization of overlapping poligons as heatmap\n",
    "    Parameters\n",
    "    ----------\n",
    "    gdf : geodatafreame\n",
    "        The geodatafreame Should include the following fields:\n",
    "        geometry - the polygon\n",
    "        name - The name of the polygon\n",
    "        #polygons - The number of polygons that make up the polygon \n",
    "    geom_col : str\n",
    "        the name of the polygon column \n",
    "    col : str\n",
    "        the name of the column for annotate\n",
    "        Ex: 'name' or '#polygons'\n",
    "    '''\n",
    "    fig, ax = plt.subplots(1, figsize=(40, 20))\n",
    "    color = 'Oranges'\n",
    "    vmin, vmax = 0, gdf['#polygons'].max() \n",
    "    gdf['centroid'] = gdf[geom_col].centroid\n",
    "    gdf['N_centroid'] = gdf['centroid'].apply(coords)\n",
    "    sm = plt.cm.ScalarMappable(cmap=color, norm=plt.Normalize(vmin=vmin, vmax=vmax))\n",
    "    sm._A = []\n",
    "    cbar = fig.colorbar(sm)\n",
    "    cbar.ax.tick_params(labelsize=20)\n",
    "    gdf.plot('#polygons', cmap=color, linewidth=0.8, ax=ax, edgecolor='0.8', figsize=(40,20));\n",
    "    for idx, row in gdf.iterrows():\n",
    "        plt.annotate(text=row[col], xy=row['N_centroid'], horizontalalignment='center');"
   ]
  },
  {
   "cell_type": "code",
   "execution_count": 192,
   "metadata": {},
   "outputs": [
    {
     "data": {
      "image/png": "[encoded data removed]",
      "text/plain": [
       "<Figure size 2880x1440 with 2 Axes>"
      ]
     },
     "metadata": {
      "needs_background": "light"
     },
     "output_type": "display_data"
    }
   ],
   "source": [
    "visualization(U, 'geometry', '#polygons')"
   ]
  },
  {
   "cell_type": "code",
   "execution_count": null,
   "metadata": {},
   "outputs": [],
   "source": []
  }
 ],
 "metadata": {
  "kernelspec": {
   "display_name": "Python 3",
   "language": "python",
   "name": "python3"
  },
  "language_info": {
   "codemirror_mode": {
    "name": "ipython",
    "version": 3
   },
   "file_extension": ".py",
   "mimetype": "text/x-python",
   "name": "python",
   "nbconvert_exporter": "python",
   "pygments_lexer": "ipython3",
   "version": "3.9.1"
  }
 },
 "nbformat": 4,
 "nbformat_minor": 4
}
