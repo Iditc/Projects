{
  "cells": [
    {
      "cell_type": "markdown",
      "metadata": {
        "id": "XZbUd9ljerYc"
      },
      "source": [
        "## Autoencoder Neural Network"
      ]
    },
    {
      "cell_type": "code",
      "execution_count": null,
      "metadata": {
        "id": "_YupHUMberYe",
        "outputId": "c08f94d1-c071-413d-d712-ef74e4757298"
      },
      "outputs": [
        {
          "name": "stderr",
          "output_type": "stream",
          "text": [
            "Using TensorFlow backend.\n"
          ]
        }
      ],
      "source": [
        "from keras.datasets import mnist, fashion_mnist\n",
        "#from models import load_model\n",
        "import numpy as np\n",
        "import os\n",
        "import argparse\n",
        "import matplotlib\n",
        "#matplotlib.use('Agg')\n",
        "import matplotlib.pyplot as plt\n",
        "import math\n",
        "import pandas as pd\n",
        "import matplotlib.pyplot as plt\n",
        "from keras.models import Sequential\n",
        "from keras.layers import Dense, Conv2D, MaxPool2D, UpSampling2D"
      ]
    },
    {
      "cell_type": "code",
      "execution_count": null,
      "metadata": {
        "id": "ynss49mgerYf"
      },
      "outputs": [],
      "source": [
        "# Read the dataset frof file 5\n",
        "normal_classes_df = pd.read_csv('normal_classes_df.csv')\n",
        "anomalous_classes_df = pd.read_csv('outliers_classes_df.csv')"
      ]
    },
    {
      "cell_type": "code",
      "execution_count": null,
      "metadata": {
        "id": "rMg5G8-6erYg"
      },
      "outputs": [],
      "source": [
        "# Removing tag\n",
        "x_train = normal_classes_df.drop(['Label'], axis=1)\n",
        "x_abnormal = anomalous_classes_df.drop(['Label'], axis=1)"
      ]
    },
    {
      "cell_type": "code",
      "execution_count": null,
      "metadata": {
        "id": "Nnqt_sgUerYg",
        "outputId": "2433420b-7fff-45cd-c638-7669b63a4c2e"
      },
      "outputs": [
        {
          "name": "stdout",
          "output_type": "stream",
          "text": [
            "(35183, 784) (1741, 784)\n"
          ]
        }
      ],
      "source": [
        "print (x_train.shape, x_abnormal.shape)"
      ]
    },
    {
      "cell_type": "code",
      "execution_count": null,
      "metadata": {
        "id": "lK6fBaMuerYg"
      },
      "outputs": [],
      "source": [
        "# Saving Tags\n",
        "y_train = normal_classes_df[['Label']].copy()\n",
        "y_abnormal = anomalous_classes_df[['Label']].copy()"
      ]
    },
    {
      "cell_type": "code",
      "execution_count": null,
      "metadata": {
        "id": "ZRRkqAzzerYg",
        "outputId": "3eeaddaf-e59e-48b3-c3b0-53192ebca125"
      },
      "outputs": [
        {
          "data": {
            "text/plain": [
              "_StoreAction(option_strings=['--test_samples'], dest='test_samples', nargs=None, const=None, default=50, type=<class 'int'>, choices=None, help=None, metavar=None)"
            ]
          },
          "execution_count": 7,
          "metadata": {},
          "output_type": "execute_result"
        }
      ],
      "source": [
        "#curdir = os.path.dirname(os.path.abspath(__file__))\n",
        "parser = argparse.ArgumentParser()\n",
        "parser.add_argument('--optimizer', choices=['adam','sgd','adagrad'], default='adam')\n",
        "parser.add_argument('--loss', choices=['mean_squared_error', 'binary_crossentropy'], default='mean_squared_error')\n",
        "parser.add_argument('--epochs', type=int, default=10)\n",
        "parser.add_argument('--batch_size', type=int, default=64)\n",
        "parser.add_argument('--test_samples', type=int, default=50)\n",
        "#parser.add_argument('--result', default=os.path.join(curdir, 'result.png'))"
      ]
    },
    {
      "cell_type": "code",
      "execution_count": null,
      "metadata": {
        "id": "lc5OqO8herYh"
      },
      "outputs": [],
      "source": [
        "def deep_autoencoder():\n",
        "    input_shape=(784,)\n",
        "    model = Sequential()\n",
        "    model.add(Dense(128, activation='relu', input_shape=input_shape))\n",
        "    model.add(Dense(64, activation='relu'))\n",
        "    model.add(Dense(128, activation='relu'))\n",
        "    model.add(Dense(784, activation='sigmoid'))\n",
        "    return model"
      ]
    },
    {
      "cell_type": "code",
      "execution_count": null,
      "metadata": {
        "id": "2CZlyYAFerYh"
      },
      "outputs": [],
      "source": [
        "model = deep_autoencoder()"
      ]
    },
    {
      "cell_type": "code",
      "execution_count": null,
      "metadata": {
        "id": "A969VO4OerYh"
      },
      "outputs": [],
      "source": [
        "x_train = x_train.values\n",
        "x_abnormal = x_abnormal.values"
      ]
    },
    {
      "cell_type": "code",
      "execution_count": null,
      "metadata": {
        "id": "E1jvm2oDerYh"
      },
      "outputs": [],
      "source": [
        "x_train = x_train.reshape(-1,28*28)\n",
        "x_abnormal = x_abnormal.reshape(-1,28*28)"
      ]
    },
    {
      "cell_type": "code",
      "execution_count": null,
      "metadata": {
        "id": "qlowZiZaerYh"
      },
      "outputs": [],
      "source": [
        "# compile model\n",
        "model.compile(optimizer='adam', loss='mean_squared_error')"
      ]
    },
    {
      "cell_type": "code",
      "execution_count": null,
      "metadata": {
        "id": "0AbzoOOIerYh",
        "outputId": "124f83ce-b0ab-4f91-9128-b309ad3d188a"
      },
      "outputs": [
        {
          "name": "stdout",
          "output_type": "stream",
          "text": [
            "Epoch 1/10\n",
            "35183/35183 [==============================] - 4s 125us/step - loss: 0.0246\n",
            "Epoch 2/10\n",
            "35183/35183 [==============================] - 6s 173us/step - loss: 0.0095\n",
            "Epoch 3/10\n",
            "35183/35183 [==============================] - 7s 187us/step - loss: 0.0074\n",
            "Epoch 4/10\n",
            "35183/35183 [==============================] - 5s 145us/step - loss: 0.0064\n",
            "Epoch 5/10\n",
            "35183/35183 [==============================] - 7s 204us/step - loss: 0.0057\n",
            "Epoch 6/10\n",
            "35183/35183 [==============================] - 6s 158us/step - loss: 0.0053\n",
            "Epoch 7/10\n",
            "35183/35183 [==============================] - 5s 155us/step - loss: 0.0049\n",
            "Epoch 8/10\n",
            "35183/35183 [==============================] - 7s 185us/step - loss: 0.0046\n",
            "Epoch 9/10\n",
            "35183/35183 [==============================] - 6s 164us/step - loss: 0.0044\n",
            "Epoch 10/10\n",
            "35183/35183 [==============================] - 5s 151us/step - loss: 0.0042\n",
            "Wall time: 58.4 s\n"
          ]
        },
        {
          "data": {
            "text/plain": [
              "<keras.callbacks.History at 0x290cea552e8>"
            ]
          },
          "execution_count": 14,
          "metadata": {},
          "output_type": "execute_result"
        }
      ],
      "source": [
        "%%time\n",
        "# train on only normal training data\n",
        "model.fit(x=x_train, y=x_train, epochs=10, batch_size=28)"
      ]
    },
    {
      "cell_type": "code",
      "execution_count": null,
      "metadata": {
        "id": "IATWKLG7erYh",
        "outputId": "d351c00a-493b-4330-fd76-e1979374748f"
      },
      "outputs": [
        {
          "data": {
            "text/plain": [
              "<keras.engine.sequential.Sequential at 0x290ce9edef0>"
            ]
          },
          "execution_count": 15,
          "metadata": {},
          "output_type": "execute_result"
        }
      ],
      "source": [
        "model"
      ]
    },
    {
      "cell_type": "code",
      "execution_count": null,
      "metadata": {
        "id": "x1Pwx2DperYh"
      },
      "outputs": [],
      "source": [
        "abnormal = model.predict(x_abnormal)"
      ]
    },
    {
      "cell_type": "code",
      "execution_count": null,
      "metadata": {
        "id": "_L1qZPFqerYi"
      },
      "outputs": [],
      "source": [
        "cm = np.array([[0, 0], [0, 0]])"
      ]
    },
    {
      "cell_type": "code",
      "execution_count": null,
      "metadata": {
        "id": "eTgn99BperYi"
      },
      "outputs": [],
      "source": [
        "threshold = 0.03  # seting the threshold for Abnormal/Normal sampel"
      ]
    },
    {
      "cell_type": "code",
      "execution_count": null,
      "metadata": {
        "id": "X13ZuEpyerYi"
      },
      "outputs": [],
      "source": [
        "# test Normal Dataset\n",
        "losses = []\n",
        "for x in x_train:\n",
        "    # compule loss for each test sample\n",
        "    x = np.expand_dims(x, axis=0)\n",
        "    loss = model.test_on_batch(x, x)\n",
        "    if loss > threshold:\n",
        "        losses.append(loss)\n",
        "    #losses.append(loss)"
      ]
    },
    {
      "cell_type": "code",
      "execution_count": null,
      "metadata": {
        "id": "rekvOS0jerYi"
      },
      "outputs": [],
      "source": [
        "TP = cm[1][1] = x_train.shape[0] - len(losses)\n",
        "FN = cm[1][0] = len(losses)"
      ]
    },
    {
      "cell_type": "code",
      "execution_count": null,
      "metadata": {
        "id": "tKVSnIARerYi"
      },
      "outputs": [],
      "source": [
        "# test Abnormal Dataset\n",
        "losses = []\n",
        "fpr = dict()\n",
        "for x in x_abnormal:\n",
        "    # compule loss for each test sample\n",
        "    x = np.expand_dims(x, axis=0)\n",
        "    loss = model.test_on_batch(x, x)\n",
        "    if loss > threshold:\n",
        "        losses.append(loss)\n",
        ""
      ]
    },
    {
      "cell_type": "code",
      "execution_count": null,
      "metadata": {
        "id": "_4X8-B2ZerYi"
      },
      "outputs": [],
      "source": [
        "FP = cm[0][0] = (x_abnormal.shape[0]) - len(losses)\n",
        "TN = cm[0][1] = len(losses)"
      ]
    },
    {
      "cell_type": "code",
      "execution_count": null,
      "metadata": {
        "id": "X956Z8sverYi"
      },
      "outputs": [],
      "source": [
        "fpr = dict()\n",
        "tpr = dict()\n",
        "roc_auc = dict()"
      ]
    },
    {
      "cell_type": "code",
      "execution_count": null,
      "metadata": {
        "id": "V4sX5E0yerYi",
        "outputId": "53319c92-6468-42db-a9a6-287abffb23f8"
      },
      "outputs": [
        {
          "data": {
            "image/png": "[encoded data removed]",
            "text/plain": [
              "<Figure size 432x288 with 1 Axes>"
            ]
          },
          "metadata": {
            "needs_background": "light"
          },
          "output_type": "display_data"
        }
      ],
      "source": [
        "plt.clf()\n",
        "plt.imshow(cm, interpolation='nearest', cmap=plt.cm.Blues)\n",
        "classNames = ['Anomalous','Normal']\n",
        "plt.title('Anomalous Vs Normal Confusion Matrix')\n",
        "plt.ylabel('True label')\n",
        "plt.xlabel('Predicted label')\n",
        "tick_marks = np.arange(len(classNames))\n",
        "plt.xticks(tick_marks, classNames)\n",
        "plt.yticks(tick_marks, classNames)\n",
        "s = [['TN','FP'], ['FN', 'TP']]\n",
        "for i in range(2):\n",
        "    for j in range(2):\n",
        "        plt.text(j-0.25,i, str(s[i][j])+\" = \"+str(cm[i][j]))\n",
        "plt.show()"
      ]
    },
    {
      "cell_type": "code",
      "execution_count": null,
      "metadata": {
        "id": "6FY-gxZjerYi"
      },
      "outputs": [],
      "source": [
        "Accuracy = (TP+TN)/(TP+TN+FP+FN)\n",
        "Recall = TP/(TP+FN) # Sensitivity\n",
        "Precision = TP/(TP+FP)\n",
        "F1 = 2*(Precision*Recall/(Precision+Recall))"
      ]
    },
    {
      "cell_type": "code",
      "execution_count": null,
      "metadata": {
        "id": "mXDiOejSerYi",
        "outputId": "04020044-c462-4686-96a1-81527a5796b7"
      },
      "outputs": [
        {
          "name": "stdout",
          "output_type": "stream",
          "text": [
            "Accuracy   : 0.9531470046582169\n",
            "Recall     : 1.0\n",
            "Precision  : 0.9531330425595319\n",
            "F1-score   : 0.9760042166000887\n"
          ]
        }
      ],
      "source": [
        "print (\"Accuracy   :\", Accuracy)\n",
        "print (\"Recall     :\", Recall)\n",
        "print (\"Precision  :\", Precision)\n",
        "print (\"F1-score   :\", F1)"
      ]
    },
    {
      "cell_type": "code",
      "execution_count": null,
      "metadata": {
        "id": "txc5YYakerYi"
      },
      "outputs": [],
      "source": []
    },
    {
      "cell_type": "code",
      "execution_count": null,
      "metadata": {
        "id": "2y48HSgcerYj"
      },
      "outputs": [],
      "source": []
    }
  ],
  "metadata": {
    "kernelspec": {
      "display_name": "Python 3 (ipykernel)",
      "language": "python",
      "name": "python3"
    },
    "language_info": {
      "codemirror_mode": {
        "name": "ipython",
        "version": 3
      },
      "file_extension": ".py",
      "mimetype": "text/x-python",
      "name": "python",
      "nbconvert_exporter": "python",
      "pygments_lexer": "ipython3",
      "version": "3.6.7"
    },
    "colab": {
      "provenance": []
    }
  },
  "nbformat": 4,
  "nbformat_minor": 0
}